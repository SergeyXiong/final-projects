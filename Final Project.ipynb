{
 "cells": [
  {
   "cell_type": "code",
   "execution_count": 1,
   "id": "75cb51ba",
   "metadata": {},
   "outputs": [],
   "source": [
    "from selenium.webdriver import Chrome\n",
    "from selenium.webdriver.common.by import By"
   ]
  },
  {
   "cell_type": "code",
   "execution_count": 2,
   "id": "2b3c33c1",
   "metadata": {},
   "outputs": [],
   "source": [
    "driver = Chrome()\n",
    "driver.get('https://www.start.umd.edu/gtd/')"
   ]
  },
  {
   "cell_type": "code",
   "execution_count": 3,
   "id": "0e037e46",
   "metadata": {},
   "outputs": [],
   "source": [
    "from selenium.webdriver.common.action_chains import ActionChains"
   ]
  },
  {
   "cell_type": "code",
   "execution_count": 4,
   "id": "af6321d6",
   "metadata": {},
   "outputs": [],
   "source": [
    "using_GTD = driver.find_element(By.XPATH, '//*[@id=\"top\"]/div[1]/div/ul/li[2]/a')\n",
    "ActionChains(driver).move_to_element(using_GTD).perform()"
   ]
  },
  {
   "cell_type": "code",
   "execution_count": 5,
   "id": "10aa95bc",
   "metadata": {},
   "outputs": [],
   "source": [
    "button1 = driver.find_element(By.XPATH, '//*[@id=\"top\"]/div[1]/div/ul/li[2]/ul/li[3]/a')\n",
    "button1.click()"
   ]
  },
  {
   "cell_type": "code",
   "execution_count": 6,
   "id": "0c5b192b",
   "metadata": {},
   "outputs": [],
   "source": [
    "from selenium.webdriver.common.keys import Keys"
   ]
  },
  {
   "cell_type": "code",
   "execution_count": 7,
   "id": "5a0ec22e",
   "metadata": {},
   "outputs": [],
   "source": [
    "ID = ['firstname', 'lastname', 'email', 'affiliation', 'country', 'usecase']\n",
    "ID_message = ['Zeng', 'Jin', 'charmingzj@outlook.com', 'MUST', 'China', 'To do data analysis for assignment.']\n",
    "for i in range(6):\n",
    "    driver.find_element(By.ID, ID[i]).send_keys(ID_message[i])\n",
    "driver.find_element(By.ID, 'industry').click()\n",
    "driver.find_element(By.XPATH, '//*[@id=\"industry\"]/option[2]').click()"
   ]
  },
  {
   "cell_type": "code",
   "execution_count": 8,
   "id": "9cb69b45",
   "metadata": {},
   "outputs": [],
   "source": [
    "driver.find_element(By.ID, 'eula').click()\n",
    "driver.find_element(By.ID, 'assent').click()"
   ]
  },
  {
   "cell_type": "code",
   "execution_count": 9,
   "id": "a04218f7",
   "metadata": {},
   "outputs": [
    {
     "data": {
      "text/plain": [
       "True"
      ]
     },
     "execution_count": 9,
     "metadata": {},
     "output_type": "execute_result"
    }
   ],
   "source": [
    "driver.find_element(By.XPATH, '//*[@id=\"jccon\"]/canvas').screenshot('verify.png')  # 截取验证码图片"
   ]
  },
  {
   "cell_type": "code",
   "execution_count": 10,
   "id": "313da89b",
   "metadata": {},
   "outputs": [],
   "source": [
    "from chaojiying import Chaojiying_Client  # 用于识别验证码"
   ]
  },
  {
   "cell_type": "code",
   "execution_count": 11,
   "id": "fe9a7a28",
   "metadata": {},
   "outputs": [],
   "source": [
    "def cjy():  # 使用超级鹰识别\n",
    "    chaojiying = Chaojiying_Client('2495270636', '201642', '905908')  \n",
    "    im = open('verify.png', 'rb').read()  # 本地图片文件路径，需要为a.png名字\n",
    "    code = chaojiying.PostPic(im, 6001)['pic_str']  # 6001:计算题验证码\n",
    "    return code"
   ]
  },
  {
   "cell_type": "code",
   "execution_count": 12,
   "id": "1457293c",
   "metadata": {},
   "outputs": [
    {
     "name": "stdout",
     "output_type": "stream",
     "text": [
      "13\n"
     ]
    }
   ],
   "source": [
    "verify = cjy()  # 使用超级鹰OCR获取计算结果\n",
    "print(verify)"
   ]
  },
  {
   "cell_type": "code",
   "execution_count": 13,
   "id": "60a76085",
   "metadata": {},
   "outputs": [],
   "source": [
    "driver.find_element(By.XPATH, '//*[@id=\"jc\"]').send_keys(verify)"
   ]
  },
  {
   "cell_type": "code",
   "execution_count": 14,
   "id": "93f4f88f",
   "metadata": {},
   "outputs": [],
   "source": [
    "driver.find_element(By.XPATH, '//*[@id=\"secondary-right\"]/form/ul/li[10]/input').click()"
   ]
  },
  {
   "cell_type": "code",
   "execution_count": 15,
   "id": "32e418c3",
   "metadata": {},
   "outputs": [
    {
     "name": "stdout",
     "output_type": "stream",
     "text": [
      "邮件一共有： 5\n",
      "['1', '2', '3', '4', '5']\n",
      "发送时间:Thu, 2 Feb 2023 20:19:02 +0000\n",
      "From:  <gtd@start.umd.edu>\n",
      "To:  <charmingzj@outlook.com>\n",
      "Subject: Global Terrorism Database Download\n",
      "['  Text: Thank you for your interest in the Global Terrorism Database. You submitted the following information with your request to download the full data file:\\r\\nFirst Name: Zeng\\r\\nLast Name:  Jin\\r\\nEmail:  charmingzj@outlook.com\\r\\nInstitution / Affiliation:  MUST\\r\\nCountry:  China\\r\\nType of Use:  academic\\r\\n\\r\\nUse Case:\\r\\nTo do data analysis for assignment.\\r\\n\\r\\nEULA: I have read and agree to the terms of the EULA.\\r\\nConsent: I have read the privacy notice and I grant permission for the University of Maryland to use my information for legitimate purposes.\\r\\n\\r\\nTo access the data file and documentation, please click the following link or paste it into your browser:\\r\\nhttps://www.start.umd.edu/gtd/contact/download?t=d543d7d2a33611ed847c0e5194896103\\r\\nThis link will expire in 24 hours, or after the data file has been downloaded five times.\\r\\n\\r\\nPrivacy - It is the practice of the GTD research team to accurately represent publicly available information and protect the privacy of individuals. All information in the GTD is drawn from public reporting, and in some cases the database contains information related to specific individuals. This information includes the names of perpetrators, suspected perpetrators, and victims of terrorist attacks as described in source documents. We require that you take every possible precaution to use this information responsibly, for the purpose of advancing the understanding of terrorism.\\r\\nIf you have any questions or feedback, please contact us at gtd@start.umd.edu.\\r\\n\\r\\nSincerely,\\r\\nThe GTD Team at the University of Maryland\\r\\n\\r\\n...']\n"
     ]
    }
   ],
   "source": [
    "#获取邮件内链接\n",
    "import Get_email\n",
    "import re\n",
    "email_addr = \"charmingzj@outlook.com\"\n",
    "password = \"xvbxscoccmlgjnxp\"\n",
    "messageObject = Get_email.get_mail(email_addr, password)\n",
    "if messageObject:\n",
    "    msgDate = messageObject[\"date\"]\n",
    "    print(\"发送时间:%s\" % msgDate)\n",
    "    email = Get_email.print_info(messageObject)"
   ]
  },
  {
   "cell_type": "code",
   "execution_count": 27,
   "id": "72a24b3c",
   "metadata": {},
   "outputs": [
    {
     "name": "stdout",
     "output_type": "stream",
     "text": [
      "['https://www.start.umd.edu/gtd/contact/download?t=d543d7d2a33611ed847c0e5194896103']\n"
     ]
    }
   ],
   "source": [
    "from Get_email import text\n",
    "link = re.findall('https://www.start.umd.edu/gtd/contact/download\\?t=.{32}', str(text))"
   ]
  },
  {
   "cell_type": "code",
   "execution_count": 33,
   "id": "94619411",
   "metadata": {},
   "outputs": [],
   "source": [
    "#打开邮箱里面发送的下载链接，24小时内有效\n",
    "browser = Chrome()\n",
    "#browser.get(str(link))\n",
    "browser.get('https://www.start.umd.edu/gtd/contact/download?t=d543d7d2a33611ed847c0e5194896103')"
   ]
  },
  {
   "cell_type": "code",
   "execution_count": 34,
   "id": "c54e6882",
   "metadata": {},
   "outputs": [],
   "source": [
    "from pathlib import Path\n",
    "from selenium.webdriver import ChromeOptions"
   ]
  },
  {
   "cell_type": "code",
   "execution_count": null,
   "id": "68930293",
   "metadata": {},
   "outputs": [],
   "source": [
    "#set the download directory and forbid popping up windows\n",
    "prefs = {'profile.default_content_settings.popups': 0, 'download.default_directory': str(Path.cwd())}\n",
    "option = ChromeOptions().add_experimental_option('prefs', prefs) \n",
    "file = Chrome(options=option)\n",
    "file.get(link)\n",
    "file.find_element(By.XPATH, '//*[@id=\"secondary-right\"]/ol/li[3]/a').click()"
   ]
  },
  {
   "cell_type": "code",
   "execution_count": null,
   "id": "81163564",
   "metadata": {},
   "outputs": [],
   "source": []
  }
 ],
 "metadata": {
  "kernelspec": {
   "display_name": "Python 3 (ipykernel)",
   "language": "python",
   "name": "python3"
  },
  "language_info": {
   "codemirror_mode": {
    "name": "ipython",
    "version": 3
   },
   "file_extension": ".py",
   "mimetype": "text/x-python",
   "name": "python",
   "nbconvert_exporter": "python",
   "pygments_lexer": "ipython3",
   "version": "3.9.13"
  }
 },
 "nbformat": 4,
 "nbformat_minor": 5
}
