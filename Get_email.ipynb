{
 "cells": [
  {
   "cell_type": "code",
   "execution_count": 22,
   "id": "285ca1a7",
   "metadata": {},
   "outputs": [],
   "source": [
    "# 登陆邮箱并读取原始邮件\n",
    "def get_mail(email_address, passsword):\n",
    "    # 选择服务器\n",
    "    server = imaplib.IMAP4_SSL('outlook.office365.com')\n",
    "    server.login(email_address, passsword)\n",
    "    inbox = server.select(\"INBOX\")\n",
    "    # 搜索匹配的邮件\n",
    "    email_type, data = server.search(None, \"ALL\")\n",
    "    # 邮件列表，使用空格分割得到邮件索引\n",
    "    msglist = data[0].split()\n",
    "    if len(msglist) != 0:\n",
    "        # 最新邮件\n",
    "        latest = msglist[len(msglist)-1]\n",
    "        email_type, datas = server.fetch(latest, '(RFC822)')\n",
    "        # 使用utf-8解码\n",
    "        text = datas[0][1].decode('utf-8')\n",
    "        # 转为email.message对象\n",
    "        message = email.message_from_string(text)\n",
    "        # 获取邮件数量\n",
    "        server.select()\n",
    "        email_count = len(server.search(None, 'ALL')[1][0].split())\n",
    "        print('邮件一共有：', email_count)\n",
    "        email_id_byte = server.search(None, 'ALL')[1][0].split()\n",
    "        email_id = []\n",
    "        for row in email_id_byte:\n",
    "            email_id.append(row.decode('utf-8'))\n",
    "        print(email_id)\n",
    "        return message\n",
    "    else:\n",
    "        print(\"暂无邮件\")"
   ]
  },
  {
   "cell_type": "code",
   "execution_count": 23,
   "id": "d3d0c855",
   "metadata": {},
   "outputs": [],
   "source": [
    "# 将原始邮件转化为可读邮件\n",
    "def decode_str(s):\n",
    "    value, charset = decode_header(s)[0]\n",
    "    if charset:\n",
    "        value = value.decode(charset)\n",
    "    return value"
   ]
  },
  {
   "cell_type": "code",
   "execution_count": 24,
   "id": "291c05fa",
   "metadata": {},
   "outputs": [],
   "source": [
    "import email\n",
    "import imaplib\n",
    "from email.utils import parseaddr\n",
    "from email.header import decode_header #正确"
   ]
  },
  {
   "cell_type": "code",
   "execution_count": 25,
   "id": "3ba1243f",
   "metadata": {},
   "outputs": [],
   "source": [
    "def guess_charset(msg):\n",
    "    charset = msg.get_charset()\n",
    "    if charset is None:\n",
    "        content_type = msg.get('Content-Type','').lower()\n",
    "        pos = content_type.find('charset=')\n",
    "        if pos >= 0:\n",
    "            charset = content_type[pos + 8:].strip()\n",
    "    return charset"
   ]
  },
  {
   "cell_type": "code",
   "execution_count": 56,
   "id": "e8b0c376",
   "metadata": {},
   "outputs": [],
   "source": [
    "text = []\n",
    "def print_info(msg, indent=0):\n",
    "    if indent == 0:\n",
    "        for header in ['From', 'To', 'Subject']:\n",
    "            value = msg.get(header, '')\n",
    "            if value:\n",
    "                if header == 'Subject':\n",
    "                    value = decode_str(value)\n",
    "                else:\n",
    "                    hdr, addr = parseaddr(value)\n",
    "                    name = decode_str(hdr)\n",
    "                    value = u'%s <%s>' % (name, addr)\n",
    "            print('%s%s: %s' % ('  ' * indent, header, value))\n",
    "\n",
    "    if msg.is_multipart():\n",
    "        parts = msg.get_payload()\n",
    "        for n, part in enumerate(parts):\n",
    "            #print('%spart %s' % ('  ' * indent, n))\n",
    "            #print('%s--------------------' % ('  ' * indent))\n",
    "            print_info(part, indent + 1)\n",
    "    else:\n",
    "        content_type = msg.get_content_type()\n",
    "        if content_type == 'text/plain' or content_type == 'text/html':\n",
    "            content = msg.get_payload(decode=True)\n",
    "            charset = guess_charset(msg)\n",
    "            if charset:\n",
    "                content = content.decode(charset)\n",
    "            text1 = '%sText: %s' % ('  ' * indent, content + '...')\n",
    "            text.append(text1)\n",
    "            print(text)\n",
    "        else:\n",
    "            print('%sAttachment: %s' % ('  ' * indent, content_type))\n"
   ]
  },
  {
   "cell_type": "code",
   "execution_count": 57,
   "id": "4e131e2b",
   "metadata": {},
   "outputs": [
    {
     "name": "stdout",
     "output_type": "stream",
     "text": [
      "邮件一共有： 5\n",
      "['1', '2', '3', '4', '5']\n",
      "发送时间:Thu, 2 Feb 2023 20:19:02 +0000\n",
      "From:  <gtd@start.umd.edu>\n",
      "To:  <charmingzj@outlook.com>\n",
      "Subject: Global Terrorism Database Download\n",
      "['  Text: Thank you for your interest in the Global Terrorism Database. You submitted the following information with your request to download the full data file:\\r\\nFirst Name: Zeng\\r\\nLast Name:  Jin\\r\\nEmail:  charmingzj@outlook.com\\r\\nInstitution / Affiliation:  MUST\\r\\nCountry:  China\\r\\nType of Use:  academic\\r\\n\\r\\nUse Case:\\r\\nTo do data analysis for assignment.\\r\\n\\r\\nEULA: I have read and agree to the terms of the EULA.\\r\\nConsent: I have read the privacy notice and I grant permission for the University of Maryland to use my information for legitimate purposes.\\r\\n\\r\\nTo access the data file and documentation, please click the following link or paste it into your browser:\\r\\nhttps://www.start.umd.edu/gtd/contact/download?t=d543d7d2a33611ed847c0e5194896103\\r\\nThis link will expire in 24 hours, or after the data file has been downloaded five times.\\r\\n\\r\\nPrivacy - It is the practice of the GTD research team to accurately represent publicly available information and protect the privacy of individuals. All information in the GTD is drawn from public reporting, and in some cases the database contains information related to specific individuals. This information includes the names of perpetrators, suspected perpetrators, and victims of terrorist attacks as described in source documents. We require that you take every possible precaution to use this information responsibly, for the purpose of advancing the understanding of terrorism.\\r\\nIf you have any questions or feedback, please contact us at gtd@start.umd.edu.\\r\\n\\r\\nSincerely,\\r\\nThe GTD Team at the University of Maryland\\r\\n\\r\\n...']\n"
     ]
    }
   ],
   "source": [
    "if __name__ == \"__main__\":\n",
    "    email_addr = \"charmingzj@outlook.com\"\n",
    "    password = \"xvbxscoccmlgjnxp\"\n",
    "    messageObject = get_mail(email_addr, password)\n",
    "    if messageObject:\n",
    "        msgDate = messageObject[\"date\"]\n",
    "        print(\"发送时间:%s\" % msgDate)\n",
    "        res = print_info(messageObject)"
   ]
  },
  {
   "cell_type": "code",
   "execution_count": null,
   "id": "cc86b2df",
   "metadata": {},
   "outputs": [],
   "source": [
    "#把ipynb文件转化为.py文件方便调用\n",
    "#在command line输入：jupyter nbconvert --to python Tools/Get_email.ipynb"
   ]
  }
 ],
 "metadata": {
  "kernelspec": {
   "display_name": "Python 3 (ipykernel)",
   "language": "python",
   "name": "python3"
  },
  "language_info": {
   "codemirror_mode": {
    "name": "ipython",
    "version": 3
   },
   "file_extension": ".py",
   "mimetype": "text/x-python",
   "name": "python",
   "nbconvert_exporter": "python",
   "pygments_lexer": "ipython3",
   "version": "3.9.13"
  }
 },
 "nbformat": 4,
 "nbformat_minor": 5
}
